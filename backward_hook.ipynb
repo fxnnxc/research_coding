{
 "cells": [
  {
   "cell_type": "code",
   "execution_count": 1,
   "metadata": {},
   "outputs": [],
   "source": [
    "import torch \n",
    "import torch.nn as nn \n",
    "\n",
    "class Model(nn.Module):\n",
    "    def __init__(self):\n",
    "        super().__init__()\n",
    "        self.up = nn.Linear(2,5) \n",
    "        self.act = nn.GELU()\n",
    "        self.down = nn.Linear(5,2)\n",
    "    \n",
    "    def forward(self, x):\n",
    "        x = self.up(x)\n",
    "        x = self.act(x)\n",
    "        x = self.down(x)\n",
    "        return x\n",
    "    \n",
    "model = Model()\n"
   ]
  },
  {
   "cell_type": "code",
   "execution_count": 2,
   "metadata": {},
   "outputs": [
    {
     "name": "stdout",
     "output_type": "stream",
     "text": [
      "tensor([[-0.0038, -0.1055]], grad_fn=<AddmmBackward0>)\n",
      "I'm backward hook\n",
      "(tensor([[ 0.0782,  0.0049,  0.6948, -0.0778, -0.0017]]),)\n",
      "tensor([[-0.0038, -0.1055]], grad_fn=<AddmmBackward0>)\n"
     ]
    }
   ],
   "source": [
    "model.eval()\n",
    "input = torch.tensor([[1,2]]).float()\n",
    "output = model.forward(input)\n",
    "print(output)\n",
    "\n",
    "# ---- modify module output\n",
    "def backward_hook(module, grad_inputs, grad_outputs):\n",
    "    #modify gradient signals \n",
    "    print(\"I'm backward hook\")\n",
    "    print(grad_inputs)\n",
    "    return grad_inputs\n",
    "\n",
    "hook = model.act.register_full_backward_hook(backward_hook)\n",
    "output = model.forward(input)\n",
    "output.sum().backward()\n",
    "hook.remove()\n",
    "print(output)"
   ]
  },
  {
   "cell_type": "code",
   "execution_count": null,
   "metadata": {},
   "outputs": [],
   "source": []
  },
  {
   "cell_type": "code",
   "execution_count": null,
   "metadata": {},
   "outputs": [],
   "source": []
  }
 ],
 "metadata": {
  "kernelspec": {
   "display_name": "base",
   "language": "python",
   "name": "python3"
  },
  "language_info": {
   "codemirror_mode": {
    "name": "ipython",
    "version": 3
   },
   "file_extension": ".py",
   "mimetype": "text/x-python",
   "name": "python",
   "nbconvert_exporter": "python",
   "pygments_lexer": "ipython3",
   "version": "3.11.5"
  }
 },
 "nbformat": 4,
 "nbformat_minor": 2
}
