{
 "cells": [
  {
   "cell_type": "code",
   "execution_count": 2,
   "metadata": {},
   "outputs": [],
   "source": [
    "import torch \n",
    "import torch.nn as nn \n",
    "\n",
    "class Model(nn.Module):\n",
    "    def __init__(self):\n",
    "        super().__init__()\n",
    "        self.up = nn.Linear(2,5) \n",
    "        self.act = nn.GELU()\n",
    "        self.down = nn.Linear(5,2)\n",
    "    \n",
    "    def forward(self, x):\n",
    "        x = self.up(x)\n",
    "        x = self.act(x)\n",
    "        x = self.down(x)\n",
    "        return x"
   ]
  },
  {
   "cell_type": "code",
   "execution_count": 3,
   "metadata": {},
   "outputs": [
    {
     "name": "stdout",
     "output_type": "stream",
     "text": [
      "tensor([[-0.7901,  0.0772]], grad_fn=<AddmmBackward0>)\n",
      "tensor([[-4291.5962,  5209.7759]], grad_fn=<AddmmBackward0>)\n",
      "tensor([[-0.7901,  0.0772]], grad_fn=<AddmmBackward0>)\n"
     ]
    }
   ],
   "source": [
    "model = Model()\n",
    "\n",
    "# ---- modify module output\n",
    "model.eval()\n",
    "input = torch.tensor([[1,2]]).float()\n",
    "output = model.forward(input)\n",
    "print(output)\n",
    "\n",
    "# ---- modify module output\n",
    "def hook_fn(module, input, output):\n",
    "    return output * 10000\n",
    "\n",
    "hook = model.act.register_forward_hook(hook_fn)\n",
    "output = model.forward(input)\n",
    "hook.remove()\n",
    "print(output)\n",
    "\n",
    "# ---- check original output\n",
    "output = model.forward(input)\n",
    "print(output)"
   ]
  }
 ],
 "metadata": {
  "kernelspec": {
   "display_name": "base",
   "language": "python",
   "name": "python3"
  },
  "language_info": {
   "codemirror_mode": {
    "name": "ipython",
    "version": 3
   },
   "file_extension": ".py",
   "mimetype": "text/x-python",
   "name": "python",
   "nbconvert_exporter": "python",
   "pygments_lexer": "ipython3",
   "version": "3.11.5"
  }
 },
 "nbformat": 4,
 "nbformat_minor": 2
}
