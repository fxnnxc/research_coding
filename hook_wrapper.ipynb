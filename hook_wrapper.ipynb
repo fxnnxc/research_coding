{
 "cells": [
  {
   "cell_type": "code",
   "execution_count": 3,
   "metadata": {},
   "outputs": [],
   "source": [
    "import torch \n",
    "import torch.nn as nn \n",
    "\n",
    "class Model(nn.Module):\n",
    "    def __init__(self):\n",
    "        super().__init__()\n",
    "        self.up = nn.Linear(2,5) \n",
    "        self.act = nn.GELU()\n",
    "        self.down = nn.Linear(5,2)\n",
    "    \n",
    "    def forward(self, x):\n",
    "        x = self.up(x)\n",
    "        x = self.act(x)\n",
    "        x = self.down(x)\n",
    "        return x"
   ]
  },
  {
   "cell_type": "code",
   "execution_count": 7,
   "metadata": {},
   "outputs": [
    {
     "data": {
      "text/plain": [
       "tensor([[-924.8879,  689.5286]], grad_fn=<AddmmBackward0>)"
      ]
     },
     "execution_count": 7,
     "metadata": {},
     "output_type": "execute_result"
    }
   ],
   "source": [
    "\n",
    "\n",
    "class HookWrapper():\n",
    "    \n",
    "    holder = [] \n",
    "    def __init__(self, model):\n",
    "        self.model = model  \n",
    "        self.hook = None \n",
    "        self.target_module = self.model.act\n",
    "        \n",
    "    def register_hooks(self):\n",
    "        def hook_fn(module, input, output):\n",
    "            return module.saved\n",
    "        self.hook = self.target_module.register_forward_hook(hook_fn)\n",
    "        \n",
    "    def forward(self, x, other=None):\n",
    "        self.register_hooks()\n",
    "        self.target_module.saved = other\n",
    "        x = self.model.forward(x)\n",
    "        self.remove_hooks()\n",
    "        return  x\n",
    "    \n",
    "    def remove_hooks(self):\n",
    "        del self.hook\n",
    "        \n",
    "model = Model()\n",
    "wrapper = HookWrapper(model)\n",
    "\n",
    "x = torch.randn(1,2) \n",
    "other = torch.randn(1,5)*1000\n",
    "wrapper.forward(x, other)"
   ]
  },
  {
   "cell_type": "code",
   "execution_count": 8,
   "metadata": {},
   "outputs": [
    {
     "data": {
      "text/plain": [
       "tensor([[-0.2922, -0.1601]], grad_fn=<AddmmBackward0>)"
      ]
     },
     "execution_count": 8,
     "metadata": {},
     "output_type": "execute_result"
    }
   ],
   "source": [
    "wrapper.forward(x)"
   ]
  },
  {
   "cell_type": "code",
   "execution_count": null,
   "metadata": {},
   "outputs": [],
   "source": []
  }
 ],
 "metadata": {
  "kernelspec": {
   "display_name": "base",
   "language": "python",
   "name": "python3"
  },
  "language_info": {
   "codemirror_mode": {
    "name": "ipython",
    "version": 3
   },
   "file_extension": ".py",
   "mimetype": "text/x-python",
   "name": "python",
   "nbconvert_exporter": "python",
   "pygments_lexer": "ipython3",
   "version": "3.11.5"
  }
 },
 "nbformat": 4,
 "nbformat_minor": 2
}
